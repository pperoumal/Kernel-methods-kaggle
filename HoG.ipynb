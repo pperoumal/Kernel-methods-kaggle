{
 "cells": [
  {
   "cell_type": "markdown",
   "metadata": {},
   "source": [
    "# Implementation of the \"Histogram of Oriented Gradients\" method for the MVA Kernel course Kaggle challenge"
   ]
  },
  {
   "cell_type": "markdown",
   "metadata": {},
   "source": [
    "## Download packages"
   ]
  },
  {
   "cell_type": "code",
   "execution_count": 1,
   "metadata": {
    "collapsed": true
   },
   "outputs": [],
   "source": [
    "%pylab inline\n",
    "import pandas\n",
    "import cvxopt\n",
    "import time\n",
    "import numpy as np\n",
    "import numpy.linalg as la\n",
    "import scipy\n",
    "from scipy.stats import mode\n",
    "import matplotlib.pyplot as plt \n",
    "from numpy import arctan2, fliplr, flipud"
   ]
  },
  {
   "cell_type": "markdown",
   "metadata": {},
   "source": [
    "## Import data"
   ]
  },
  {
   "cell_type": "code",
   "execution_count": 9,
   "metadata": {
    "collapsed": true
   },
   "outputs": [],
   "source": [
    "X_train = np.genfromtxt('/Users/badr-eddinecherief-abdellatif/Documents/ENSAE/3A/MVA/Kernel methods/Projet ENS/Bases/Xtr.csv',delimiter=',')[:,0:3072]\n",
    "Y_train = np.genfromtxt('/Users/badr-eddinecherief-abdellatif/Documents/ENSAE/3A/MVA/Kernel methods/Projet ENS/Bases/Ytr.csv',delimiter=';')[1:5001,1]\n",
    "X_test = np.genfromtxt('/Users/badr-eddinecherief-abdellatif/Documents/ENSAE/3A/MVA/Kernel methods/Projet ENS/Bases/Xte.csv',delimiter=',')[:,0:3072]"
   ]
  },
  {
   "cell_type": "markdown",
   "metadata": {},
   "source": [
    "## Step 1 : Compute discret gradients"
   ]
  },
  {
   "cell_type": "code",
   "execution_count": 29,
   "metadata": {
    "collapsed": false
   },
   "outputs": [],
   "source": [
    "def gradient(image, same_size):\n",
    "    \"\"\" Computes the Gradients of the image separated pixel difference\n",
    "    \n",
    "    Gradient of X is computed using the filter \n",
    "        [-1, 0, 1]\n",
    "    Gradient of Y is computed using the filter \n",
    "        [[1,\n",
    "          0,\n",
    "          -1]]\n",
    "    Parameters\n",
    "    ----------\n",
    "    image: image of shape (imy, imx)\n",
    "    same_size: boolean, optional, default is True\n",
    "        If True, boundaries are duplicated so that the gradients\n",
    "        has the same size as the original image.\n",
    "        Otherwise, the gradients will have shape (imy-2, imx-2)\n",
    "        \n",
    "    Returns\n",
    "    -------\n",
    "    (Gradient X, Gradient Y), two numpy array with the same shape as image\n",
    "        (if same_size=True)\n",
    "    \"\"\"\n",
    "    same_size=False\n",
    "    sy, sx = image.shape\n",
    "    if same_size:\n",
    "        gx = np.zeros(image.shape)\n",
    "        gx[:, 1:-1] = -image[:, :-2] + image[:, 2:]\n",
    "        gx[:, 0] = -image[:, 0] + image[:, 1]\n",
    "        gx[:, -1] = -image[:, -2] + image[:, -1]\n",
    "    \n",
    "        gy = np.zeros(image.shape)\n",
    "        gy[1:-1, :] = image[:-2, :] - image[2:, :]\n",
    "        gy[0, :] = image[0, :] - image[1, :]\n",
    "        gy[-1, :] = image[-2, :] - image[-1, :]\n",
    "    \n",
    "    else:\n",
    "        gx = np.zeros((sy-2, sx-2))\n",
    "        gx[:, :] = -image[1:-1, :-2] + image[1:-1, 2:]\n",
    "\n",
    "        gy = np.zeros((sy-2, sx-2))\n",
    "        gy[:, :] = image[:-2, 1:-1] - image[2:, 1:-1]\n",
    "    \n",
    "    return gx, gy"
   ]
  },
  {
   "cell_type": "code",
   "execution_count": 30,
   "metadata": {
    "collapsed": true
   },
   "outputs": [],
   "source": [
    "def magnitude_orientation(gx, gy):\n",
    "    \"\"\" Computes the magnitude and orientation matrices from the gradients gx gy\n",
    "    Parameters\n",
    "    ----------\n",
    "    gx: gradient following the x axis of the image\n",
    "    gy: gradient following the y axis of the image\n",
    "    \n",
    "    Returns \n",
    "    -------\n",
    "    (magnitude, orientation)\n",
    "    \n",
    "    Warning\n",
    "    -------\n",
    "    The orientation is in degree, NOT radian!!\n",
    "    \"\"\"\n",
    "        \n",
    "    magnitude = np.sqrt(gx**2 + gy**2)\n",
    "    orientation = (arctan2(gy, gx) * 180 / np.pi) % 360\n",
    "            \n",
    "    return magnitude, orientation"
   ]
  },
  {
   "cell_type": "markdown",
   "metadata": {},
   "source": [
    "## Step 2 : Compute HoG in (csx,csy) cells (with normalization across blocks)"
   ]
  },
  {
   "cell_type": "code",
   "execution_count": 33,
   "metadata": {
    "collapsed": true
   },
   "outputs": [],
   "source": [
    "def compute_coefs(csx, csy, dx, dy, n_cells_x, n_cells_y):\n",
    "    \"\"\"\n",
    "    Computes the coefficients for the bilinear (spatial) interpolation\n",
    "    \n",
    "    Parameters\n",
    "    ----------\n",
    "    csx: int\n",
    "        number of columns of the cells\n",
    "    csy: int\n",
    "        number of raws dimension of the cells\n",
    "    sx: int\n",
    "        number of colums of the image (x axis)\n",
    "    sy: int\n",
    "        number of raws of the image (y axis)\n",
    "    n_cells_x: int\n",
    "        number of cells in the x axis\n",
    "    n_cells_y: int\n",
    "        number of cells in the y axis\n",
    "    \n",
    "    Notes\n",
    "    -----\n",
    "    We consider an image: image[y, x] (NOT image[x, y]!!!)\n",
    "    \n",
    "    /!\\ csx and csy must be even number\n",
    "    \n",
    "    Using the coefficients\n",
    "    ----------------------\n",
    "    The coefficient correspond to the interpolation in direction of the upper left corner of the image.\n",
    "    In other words, if you interpolate img, and res is the result of your interpolation, you should do\n",
    "    \n",
    "    res = zeros(n_cells_y*pixels_per_cell, n_cells_x*pixels_per_cell)\n",
    "        with (csx, csy) the number of pixels per cell\n",
    "         and dx, dy = csx//2, csy//2\n",
    "    res[:-dx, :-dy] += img[dx:, dy:]*coefs\n",
    "    \n",
    "    then you rotate the coefs and do the same thing for every part of the image\n",
    "    \"\"\"\n",
    "    if csx != csy:\n",
    "        raise NotImplementedError(\"For now compute_coefs is only implemented for squared cells (csx == csy)\")\n",
    "        \n",
    "        ################################\n",
    "        #####     /!\\ TODO  /!\\    #####\n",
    "        ################################\n",
    "\n",
    "    else: # Squared cells\n",
    "        # Note: in this case, dx = dy, we differentiate them only to make the code clearer\n",
    "        \n",
    "        # We want a squared coefficients matrix so that it can be rotated to interpolate in every direction\n",
    "        n_cells = max(n_cells_x, n_cells_y)\n",
    "        \n",
    "        # Every cell of this matrix corresponds to (x - x_1)/dx \n",
    "        x = (np.arange(dx)+0.5)/csx\n",
    "        \n",
    "        # Every cell of this matrix corresponds to (y - y_1)/dy\n",
    "        y = (np.arange(dy)+0.5)/csy\n",
    "        \n",
    "        y = y[np.newaxis, :]\n",
    "        x = x[:, np.newaxis]\n",
    "\n",
    "        # CENTRAL COEFFICIENT\n",
    "        ccoefs = np.zeros((csy, csx))\n",
    "\n",
    "        ccoefs[:dy, :dx] = (1 - x)*(1 - y)\n",
    "        ccoefs[:dy, -dx:] = fliplr(y)*(1 - x)\n",
    "        ccoefs[-dy:, :dx] = (1 - y)*flipud(x)\n",
    "        ccoefs[-dy:, -dx:] = fliplr(y)*flipud(x)\n",
    "\n",
    "        coefs = np.zeros((csx*n_cells - dx, csy*n_cells - dy))\n",
    "        coefs[:-dy, :-dx] = np.tile(ccoefs, (n_cells - 1, n_cells - 1))\n",
    "\n",
    "        # REST OF THE BORDER\n",
    "        coefs[:-dy, -dx:] = np.tile(np.concatenate(((1 - x), np.flipud(x))), (n_cells - 1, dy))\n",
    "        coefs[-dy:, :-dx] = np.tile(np.concatenate(((1 - y), np.fliplr(y)), axis=1), (dx, n_cells - 1))\n",
    "        coefs[-dy:, -dx:] = 1\n",
    "\n",
    "        return coefs"
   ]
  },
  {
   "cell_type": "code",
   "execution_count": 34,
   "metadata": {
    "collapsed": true
   },
   "outputs": [],
   "source": [
    "def interpolate_orientation(orientation, sx, sy, nbins, signed_orientation):\n",
    "    \"\"\" interpolates linearly the orientations to their corresponding bins\n",
    "    Parameters\n",
    "    ----------\n",
    "    sx: int\n",
    "        number of columns of the image (x axis)\n",
    "    sy: int\n",
    "        number of raws of the image (y axis)\n",
    "    nbins : int, optional, default is 9\n",
    "        Number of orientation bins.\n",
    "    signed_orientation: bool, default is True\n",
    "        if True, sign information of the orientation is preserved,\n",
    "            ie orientation angles are between 0 and 360 degree.\n",
    "        if False, the angles are between 0 and 180 degree.\n",
    "    Returns\n",
    "    -------\n",
    "    pre-histogram: array of shape (sx, sy, nbins)\n",
    "            contains the pre histogram of orientation built using linear interpolation\n",
    "            to interpolate the orientations to their bins\n",
    "    \"\"\"\n",
    "    \n",
    "    if signed_orientation:\n",
    "        max_angle = 360\n",
    "    else:\n",
    "        max_angle = 180\n",
    "    \n",
    "    b_step = max_angle/nbins\n",
    "    b0 = (orientation % max_angle) // b_step\n",
    "    b0[np.where(b0>=nbins)]=0\n",
    "    b1 = b0 + 1\n",
    "    b1[np.where(b1>=nbins)]=0\n",
    "    b = np.abs(orientation % b_step) / b_step\n",
    "    \n",
    "    #linear interpolation between the bins\n",
    "    # Coefficients corresponding to the bin interpolation\n",
    "    # We go from an image to a higher dimension representation of size (sizex, sizey, nbins)\n",
    "    temp_coefs = np.zeros((sy, sx, nbins))\n",
    "    for i in range(nbins):\n",
    "        temp_coefs[:, :, i] += np.where(b0==i, (1 - b), 0)\n",
    "        temp_coefs[:, :, i] += np.where(b1==i, b, 0)\n",
    "    \n",
    "    return temp_coefs"
   ]
  },
  {
   "cell_type": "code",
   "execution_count": 40,
   "metadata": {
    "collapsed": true
   },
   "outputs": [],
   "source": [
    "def per_pixel_hog(image, dy, dx, signed_orientation, nbins, flatten, normalise):\n",
    "    \"\"\" builds a histogram of orientation for a cell centered around each pixel of the image\n",
    "    \n",
    "    Parameters\n",
    "    ---------\n",
    "    image: numpy array of shape (sizey, sizex)\n",
    "    dx   : the cell around each pixel in the x axis will have size 2*dx+1\n",
    "    dy   : the cell around each pixel in the y axis will have size 2*dy+1\n",
    "    signed_orientation: bool, default is True\n",
    "        if True, sign information of the orientation is preserved,\n",
    "            i.e. orientation angles are between 0 and 360 degree.\n",
    "        if False, the angles are between 0 and 180 degree.\n",
    "    nbins : int, optional, default is 9\n",
    "        Number of orientation bins.\n",
    "        \n",
    "    Returns\n",
    "    -------\n",
    "    if visualise if True: (histogram of oriented gradient, visualisation image)\n",
    "    \n",
    "    histogram of oriented gradient:\n",
    "        numpy array of shape (n_cells_y, n_cells_x, nbins), flattened if flatten is True\n",
    "    \"\"\"\n",
    "    dy=2\n",
    "    dx=2\n",
    "    signed_orientation=False\n",
    "    nbins=9\n",
    "    flatten=False\n",
    "    normalise=True\n",
    "    gx, gy = gradient(image, same_size=True)\n",
    "    magnitude, orientation = magnitude_orientation(gx, gy)\n",
    "    sy, sx = image.shape\n",
    "    orientations_image = interpolate_orientation(orientation, sx, sy, nbins, signed_orientation)\n",
    "    for j in range(1, dy):\n",
    "        for i in range(1, dx):\n",
    "            orientations_image[:-j, :-i, :] += orientations_image[j:, i:, :]\n",
    "    \n",
    "    if normalise:\n",
    "        normalised_blocks = normalise_histogram(orientations_image, 1, 1, 1, 1, nbins)\n",
    "    else:\n",
    "        normalised_blocks = orientations_image\n",
    "    \n",
    "    if flatten:\n",
    "        normalised_blocks = normalised_blocks.flatten()\n",
    "\n",
    "    return normalised_blocks"
   ]
  },
  {
   "cell_type": "code",
   "execution_count": 55,
   "metadata": {
    "collapsed": true
   },
   "outputs": [],
   "source": [
    "def interpolate(magnitude, orientation, csx, csy, sx, sy, n_cells_x, n_cells_y, signed_orientation, nbins):\n",
    "    \"\"\" Returns a matrix of size (cell_size_x, cell_size_y, nbins) corresponding\n",
    "         to the trilinear interpolation of the pixels magnitude and orientation\n",
    "    Parameters\n",
    "    ----------\n",
    "    csx: int\n",
    "        number of columns of the cells\n",
    "    csy: int\n",
    "        number of raws dimension of the cells\n",
    "    sx: int\n",
    "        number of colums of the image (x axis)\n",
    "    sy: int\n",
    "        number of raws of the image (y axis)\n",
    "    n_cells_x: int\n",
    "        number of cells in the x axis\n",
    "    n_cells_y: int\n",
    "        number of cells in the y axis\n",
    "    signed_orientation: bool, default is True\n",
    "        if True, sign information of the orientation is preserved,\n",
    "            ie orientation angles are between 0 and 360 degree.\n",
    "        if False, the angles are between 0 and 180 degree.\n",
    "    nbins : int, optional, default is 9\n",
    "        Number of orientation bins.\n",
    "    Returns\n",
    "    -------\n",
    "    orientation_histogram: array of shape (n_cells_x, n_cells_y, nbins)\n",
    "            contains the histogram of orientation built using tri-linear interpolation\n",
    "    \"\"\"\n",
    "    signed_orientation=False\n",
    "    nbins=9\n",
    "    \n",
    "    dx = csx//2\n",
    "    dy = csy//2\n",
    "    \n",
    "    temp_coefs = interpolate_orientation(orientation, sx, sy, nbins, signed_orientation)\n",
    "\n",
    "\n",
    "    # Coefficients of the spatial interpolation in every direction\n",
    "    coefs = compute_coefs(csx, csy, dx, dy, n_cells_x, n_cells_y)\n",
    "    \n",
    "    temp = np.zeros((sy, sx, nbins))\n",
    "    # hist(y0, x0)\n",
    "    temp[:-dy, :-dx, :] += temp_coefs[dy:, dx:, :]*\\\n",
    "        (magnitude[dy:, dx:]*coefs[-(n_cells_y*csy - dy):, -(n_cells_x*csx - dx):])[:, :, np.newaxis]\n",
    "    \n",
    "    # hist(y1, x0)\n",
    "    coefs = np.rot90(coefs)\n",
    "    temp[dy:, :-dx, :] += temp_coefs[:-dy, dx:, :]*\\\n",
    "        (magnitude[:-dy, dx:]*coefs[:(n_cells_y*csy - dy), -(n_cells_x*csx - dx):])[:, :, np.newaxis]\n",
    "    \n",
    "    # hist(y1, x1)\n",
    "    coefs = np.rot90(coefs)\n",
    "    temp[dy:, dx:, :] += temp_coefs[:-dy, :-dx, :]*\\\n",
    "        (magnitude[:-dy, :-dx]*coefs[:(n_cells_y*csy - dy), :(n_cells_x*csx - dx)])[:, :, np.newaxis]\n",
    "    \n",
    "    # hist(y0, x1)\n",
    "    coefs = np.rot90(coefs)\n",
    "    temp[:-dy, dx:, :] += temp_coefs[dy:, :-dx, :]*\\\n",
    "        (magnitude[dy:, :-dx]*coefs[-(n_cells_y*csy - dy):, :(n_cells_x*csx - dx)])[:, :, np.newaxis]\n",
    "    \n",
    "    # Compute the histogram: sum over the cells\n",
    "    orientation_histogram = temp.reshape((n_cells_y, csy, n_cells_x, csx, nbins)).sum(axis=3).sum(axis=1)\n",
    "    \n",
    "    return orientation_histogram"
   ]
  },
  {
   "cell_type": "code",
   "execution_count": 56,
   "metadata": {
    "collapsed": true
   },
   "outputs": [],
   "source": [
    "def draw_histogram(hist, csx, csy, signed_orientation):\n",
    "    \"\"\" simple function to draw an orientation histogram\n",
    "        with arrows\n",
    "    \"\"\"\n",
    "    signed_orientation=False\n",
    "    \n",
    "    if signed_orientation:\n",
    "        max_angle = 2*np.pi\n",
    "    else:\n",
    "        max_angle = np.pi\n",
    "    \n",
    "    n_cells_y, n_cells_x, nbins = hist.shape\n",
    "    sx, sy = n_cells_x*csx, n_cells_y*csy\n",
    "    plt.close()\n",
    "    plt.figure()#figsize=(sx/2, sy/2))#, dpi=1)\n",
    "    plt.xlim(0, sx)\n",
    "    plt.ylim(sy, 0)\n",
    "    center = csx//2, csy//2\n",
    "    b_step = max_angle / nbins\n",
    "        \n",
    "    for i in range(n_cells_y):\n",
    "        for j in range(n_cells_x):\n",
    "            for k in range(nbins):\n",
    "                if hist[i, j, k] != 0:\n",
    "                    width = 1*hist[i, j, k]\n",
    "                    plt.arrow((center[0] + j*csx) - np.cos(b_step*k)*(center[0] - 1),\n",
    "                              (center[1] + i*csy) + np.sin(b_step*k)*(center[1] - 1), \n",
    "                          2*np.cos(b_step*k)*(center[0] - 1), -2*np.sin(b_step*k)*(center[1] - 1),\n",
    "                          width=width, color=str(width), #'black',\n",
    "                          head_width=2.2*width, head_length=2.2*width,\n",
    "                          length_includes_head=True)\n",
    "                    \n",
    "    plt.show()"
   ]
  },
  {
   "cell_type": "code",
   "execution_count": 59,
   "metadata": {
    "collapsed": false
   },
   "outputs": [],
   "source": [
    "def visualise_histogram(hist, csx, csy, signed_orientation):\n",
    "    \"\"\" Create an image visualisation of the histogram of oriented gradient\n",
    "    \n",
    "    Parameters\n",
    "    ----------\n",
    "    hist: numpy array of shape (n_cells_y, n_cells_x, nbins)\n",
    "        histogram of oriented gradient\n",
    "    csx: int\n",
    "        number of columns of the cells\n",
    "    csy: int\n",
    "        number of raws dimension of the cells\n",
    "    signed_orientation: bool, default is True\n",
    "        if True, sign information of the orientation is preserved,\n",
    "            ie orientation angles are between 0 and 360 degree.\n",
    "        if False, the angles are between 0 and 180 degree.\n",
    "    \n",
    "    Return\n",
    "    ------\n",
    "    Image of shape (hist.shape[0]*csy, hist.shape[1]*csx)\n",
    "    \"\"\"\n",
    "    from skimage import draw  \n",
    "    \"\"\" we just need the function \"draw.line\" from skimage\n",
    "    \"\"\"\n",
    "    \n",
    "    signed_orientation=False\n",
    "    \n",
    "    if signed_orientation:\n",
    "        max_angle = 2*np.pi\n",
    "    else:\n",
    "        max_angle = np.pi\n",
    "    \n",
    "    n_cells_y, n_cells_x, nbins = hist.shape\n",
    "    sx, sy = n_cells_x*csx, n_cells_y*csy\n",
    "    center = csx//2, csy//2\n",
    "    b_step = max_angle / nbins\n",
    "\n",
    "    radius = min(csx, csy) // 2 - 1\n",
    "    hog_image = np.zeros((sy, sx), dtype=float)\n",
    "    for x in range(n_cells_x):\n",
    "        for y in range(n_cells_y):\n",
    "            for o in range(nbins):\n",
    "                centre = tuple([y * csy + csy // 2, x * csx + csx // 2])\n",
    "                dx = radius * np.cos(o*nbins)\n",
    "                dy = radius * np.sin(o*nbins)\n",
    "                rr, cc = draw.line(int(centre[0] - dy),\n",
    "                                   int(centre[1] - dx),\n",
    "                                   int(centre[0] + dy),\n",
    "                                   int(centre[1] + dx))\n",
    "                hog_image[rr, cc] += hist[y, x, o]\n",
    "    return hog_image"
   ]
  },
  {
   "cell_type": "code",
   "execution_count": 60,
   "metadata": {
    "collapsed": true
   },
   "outputs": [],
   "source": [
    "def normalise_histogram(orientation_histogram, bx, by, n_cells_x, n_cells_y, nbins):\n",
    "    \"\"\" normalises a histogram by blocks\n",
    "    \n",
    "    Parameters\n",
    "    ----------\n",
    "    bx: int\n",
    "        number of blocks on the x axis\n",
    "    by: int\n",
    "        number of blocks on the y axis\n",
    "    n_cells_x: int\n",
    "        number of cells in the x axis\n",
    "    n_cells_y: int\n",
    "        number of cells in the y axis\n",
    "    nbins : int, optional, default is 9\n",
    "        Number of orientation bins.\n",
    "     \n",
    "    The normalisation is done according to Dalal's original thesis, using L2-Hys.\n",
    "    In other words the histogram is first normalised block-wise using l2 norm, before clipping it by\n",
    "        limiting the values between 0 and 0.02 and finally normalising again with l2 norm\n",
    "    \"\"\"\n",
    "    eps = 1e-7\n",
    "    \n",
    "    if bx==1 and by==1: \n",
    "        normalised_blocks = np.clip(\n",
    "          orientation_histogram / np.sqrt(orientation_histogram.sum(axis=-1)**2 + eps)[:, :, np.newaxis], 0, 0.2)\n",
    "        normalised_blocks /= np.sqrt(normalised_blocks.sum(axis=-1)**2 + eps)[:, :, np.newaxis]\n",
    "        \n",
    "    else:\n",
    "        n_blocksx = (n_cells_x - bx) + 1\n",
    "        n_blocksy = (n_cells_y - by) + 1\n",
    "        normalised_blocks = np.zeros((n_blocksy, n_blocksx, nbins))\n",
    "\n",
    "        for x in range(n_blocksy):\n",
    "            for y in range(n_blocksx):\n",
    "                block = orientation_histogram[y:y + by, x:x + bx, :]\n",
    "                normalised_blocks[y, x, :] = np.clip(block[0, 0, :] / np.sqrt(block.sum()**2 + eps), 0, 0.2)\n",
    "                normalised_blocks[y, x, :] /= np.sqrt(normalised_blocks[y, x, :].sum()**2 + eps)\n",
    "\n",
    "    return normalised_blocks"
   ]
  },
  {
   "cell_type": "code",
   "execution_count": 61,
   "metadata": {
    "collapsed": true
   },
   "outputs": [],
   "source": [
    "def build_histogram(magnitude, orientation, cell_size, signed_orientation,\n",
    "         nbins, cells_per_block, visualise, flatten, normalise):\n",
    "    \"\"\" builds a histogram of orientation using the provided magnitude and orientation matrices\n",
    "    \n",
    "    Parameters\n",
    "    ---------\n",
    "    magnitude: np-array of size (sy, sx)\n",
    "        matrix of magnitude\n",
    "    orientation: np-array of size (sy, sx)\n",
    "        matrix of orientations\n",
    "    csx: int\n",
    "        number of columns of the cells \n",
    "        MUST BE EVEN\n",
    "    csy: int\n",
    "        number of raws dimension of the cells\n",
    "        MUST BE EVEN\n",
    "    sx: int\n",
    "        number of colums of the image (x axis)\n",
    "    sy: int\n",
    "        number of raws of the image (y axis)\n",
    "    n_cells_x: int\n",
    "        number of cells in the x axis\n",
    "    n_cells_y: int\n",
    "        number of cells in the y axis\n",
    "    signed_orientation: bool, default is True\n",
    "        if True, sign information of the orientation is preserved,\n",
    "            ie orientation angles are between 0 and 360 degree.\n",
    "        if False, the angles are between 0 and 180 degree.\n",
    "    nbins : int, optional, default is 9\n",
    "        Number of orientation bins.\n",
    "        \n",
    "    Returns\n",
    "    -------\n",
    "    if visualise if True: (histogram of oriented gradient, visualisation image)\n",
    "    \n",
    "    histogram of oriented gradient:\n",
    "        numpy array of shape (n_cells_y, n_cells_x, nbins), flattened if flatten is True\n",
    "    visualisation image:\n",
    "        Image of shape (hist.shape[0]*csy, hist.shape[1]*csx)\n",
    "    \"\"\"\n",
    "    cell_size=(8, 8)\n",
    "    signed_orientation=False\n",
    "    nbins=9\n",
    "    cells_per_block=(1, 1) \n",
    "    visualise=False\n",
    "    flatten=False\n",
    "    normalise=True\n",
    "        \n",
    "    sy, sx = magnitude.shape\n",
    "    csy, csx = cell_size\n",
    "    \n",
    "    # checking that the cell size are even\n",
    "    if csx % 2 != 0:\n",
    "        csx += 1\n",
    "        print(\"WARNING: the cell_size must be even, incrementing cell_size_x of 1\")\n",
    "    if csy % 2 != 0:\n",
    "        csy += 1\n",
    "        print(\"WARNING: the cell_size must be even, incrementing cell_size_y of 1\")\n",
    "    \n",
    "    # Consider only the right part of the image\n",
    "    # (if the rest doesn't fill a whole cell, just drop it)\n",
    "    sx -= sx % csx\n",
    "    sy -= sy % csy\n",
    "    n_cells_x = sx//csx\n",
    "    n_cells_y = sy//csy\n",
    "    magnitude = magnitude[:sy, :sx]\n",
    "    orientation = orientation[:sy, :sx]\n",
    "    by, bx = cells_per_block\n",
    "    \n",
    "    orientation_histogram = interpolate(magnitude, orientation, csx, csy, sx, sy, n_cells_x, n_cells_y, signed_orientation, nbins)\n",
    "    \n",
    "    if normalise:\n",
    "        normalised_blocks = normalise_histogram(orientation_histogram, bx, by, n_cells_x, n_cells_y, nbins)\n",
    "    else:\n",
    "        normalised_blocks = orientation_histogram\n",
    "    \n",
    "    if flatten:\n",
    "        normalised_blocks = normalised_blocks.flatten()\n",
    "\n",
    "    if visualise:\n",
    "        #draw_histogram(normalised_blocks, csx, csy, signed_orientation)\n",
    "        return normalised_blocks, visualise_histogram(normalised_blocks, csx, csy, signed_orientation)\n",
    "    else:\n",
    "        return normalised_blocks"
   ]
  },
  {
   "cell_type": "code",
   "execution_count": 62,
   "metadata": {
    "collapsed": true
   },
   "outputs": [],
   "source": [
    "def histogram_from_gradients(gradientx, gradienty, cell_size, cells_per_block, signed_orientation,\n",
    "        nbins, visualise, normalise, flatten, same_size):\n",
    "    \"\"\" builds a histogram of oriented gradient from the provided gradients\n",
    "    Parameters\n",
    "    ----------\n",
    "    gradientx : (M, N) ndarray\n",
    "        Gradient following the x axis\n",
    "    gradienty: (M, N) ndarray\n",
    "        Gradient following the y axis\n",
    "    nbins : int, optional\n",
    "        Number of orientation bins.\n",
    "    cell_size : 2 tuple (int, int)\n",
    "        Size (in pixels) of a cell.\n",
    "    cells_per_block : 2 tuple (int,int)\n",
    "        Number of cells in each block.\n",
    "    visualise : bool, optional, default is False\n",
    "        Also return an image of the HOG.\n",
    "    flatten: bool, optional, default is True\n",
    "    signed_orientation: bool, default is True\n",
    "        if True, sign information of the orientation is preserved,\n",
    "            ie orientation angles are between 0 and 360 degree.\n",
    "        if False, the angles are between 0 and 180 degree.\n",
    "    normalise: bool, optional, default is True\n",
    "        if True, the histogram is normalised block-wise\n",
    "    same_size: bool, optional, default is False\n",
    "        if True, the boundaries are duplicated when computing the gradients of the image\n",
    "        so that these have the same size as the original image\n",
    "    Returns\n",
    "    -------\n",
    "    if visualise if True: (histogram of oriented gradient, visualisation image)\n",
    "    \n",
    "    histogram of oriented gradient:\n",
    "        numpy array of shape (n_cells_y, n_cells_x, nbins), flattened if flatten is True\n",
    "    visualisation image:\n",
    "        Image of shape (hist.shape[0]*csy, hist.shape[1]*csx)\n",
    "    References\n",
    "    ----------\n",
    "    * http://en.wikipedia.org/wiki/Histogram_of_oriented_gradients\n",
    "    * Dalal, N and Triggs, B, Histograms of Oriented Gradients for\n",
    "    Human Detection, IEEE Computer Society Conference on Computer\n",
    "    Vision and Pattern Recognition 2005 San Diego, CA, USA\n",
    "    \"\"\"\n",
    "    cell_size=(8, 8)\n",
    "    cells_per_block=(1, 1)\n",
    "    signed_orientation=False\n",
    "    nbins=9\n",
    "    visualise=False\n",
    "    normalise=True\n",
    "    flatten=False\n",
    "    same_size=False\n",
    "    \n",
    "    magnitude, orientation = magnitude_orientation(gradientx, gradienty)\n",
    "    return build_histogram(magnitude, orientation, cell_size=cell_size,\n",
    "         signed_orientation=signed_orientation, cells_per_block=cells_per_block,\n",
    "         nbins=nbins, visualise=visualise, normalise=normalise, flatten=flatten)"
   ]
  },
  {
   "cell_type": "markdown",
   "metadata": {},
   "source": [
    "## Step 3 : Compute HoG feature vectors"
   ]
  },
  {
   "cell_type": "code",
   "execution_count": 63,
   "metadata": {
    "collapsed": true
   },
   "outputs": [],
   "source": [
    "def hog(image, cell_size, cells_per_block, signed_orientation,\n",
    "        nbins, visualise, normalise, flatten, same_size):\n",
    "    \"\"\" builds a histogram of oriented gradient (HoG) from the provided image\n",
    "    Compute a Histogram of Oriented Gradients (HOG) by\n",
    "    1. computing the gradient image in x and y and deduce from them the magnitude and orientation\n",
    "        of each pixel\n",
    "    2. computing gradient histograms (vectorised version)\n",
    "    3. normalising across blocks\n",
    "    4. flattening into a feature vector if flatten=True\n",
    "    Parameters\n",
    "    ----------\n",
    "    image : (M, N) ndarray\n",
    "        Input image (greyscale).\n",
    "    nbins : int, optional, default is 9\n",
    "        Number of orientation bins.\n",
    "    cell_size : 2 tuple (int, int)\n",
    "        Size (in pixels) of a cell.\n",
    "    cells_per_block : 2 tuple (int,int)\n",
    "        Number of cells in each block.\n",
    "    visualise : bool\n",
    "        Also return an image of the HOG.\n",
    "    flatten: bool\n",
    "    signed_orientation: bool, default is True\n",
    "        if True, sign information of the orientation is preserved,\n",
    "            ie orientation angles are between 0 and 360 degree.\n",
    "        if False, the angles are between 0 and 180 degree.\n",
    "    normalise: bool\n",
    "        if True, the histogram is normalised block-wise\n",
    "    same_size: bool\n",
    "        if True, the boundaries are duplicated when computing the gradients of the image\n",
    "        so that these have the same size as the original image\n",
    "    Returns\n",
    "    -------\n",
    "    if visualise if True: (histogram of oriented gradient, visualisation image)\n",
    "    \n",
    "    histogram of oriented gradient:\n",
    "        numpy array of shape (n_cells_y, n_cells_x, nbins), flattened if flatten is True\n",
    "    visualisation image:\n",
    "        Image of shape (hist.shape[0]*csy, hist.shape[1]*csx)\n",
    "    References\n",
    "    ----------\n",
    "    * http://en.wikipedia.org/wiki/Histogram_of_oriented_gradients\n",
    "    * Dalal, N and Triggs, B, Histograms of Oriented Gradients for\n",
    "    Human Detection, IEEE Computer Society Conference on Computer\n",
    "    Vision and Pattern Recognition 2005 San Diego, CA, USA\n",
    "    \"\"\"\n",
    "    cell_size=(4, 4)\n",
    "    cells_per_block=(1, 1)\n",
    "    signed_orientation=False\n",
    "    nbins=9\n",
    "    visualise=False\n",
    "    normalise=True\n",
    "    flatten=False \n",
    "    same_size=True\n",
    "        \n",
    "    gx, gy = gradient(image, same_size=same_size)\n",
    "    return histogram_from_gradients(gx, gy, cell_size=cell_size,\n",
    "         signed_orientation=signed_orientation, cells_per_block=cells_per_block,\n",
    "         nbins=nbins, visualise=visualise, normalise=normalise, flatten=flatten,same_size=same_size)"
   ]
  },
  {
   "cell_type": "markdown",
   "metadata": {},
   "source": [
    "## Test on a simple example"
   ]
  },
  {
   "cell_type": "code",
   "execution_count": 70,
   "metadata": {
    "collapsed": true
   },
   "outputs": [],
   "source": [
    "def octagon():\n",
    "    return np.array([[0, 0, 0, 0, 0, 0, 0, 0, 0, 0, 0, 0, 0, 0, 0, 0],\n",
    "                     [0, 0, 0, 0, 0, 0, 0, 1, 1, 1, 0, 0, 0, 0, 0, 0],\n",
    "                     [0, 0, 0, 0, 0, 0, 1, 1, 1, 1, 1, 0, 0, 0, 0, 0],\n",
    "                     [0, 0, 0, 0, 0, 1, 1, 1, 1, 1, 1, 1, 0, 0, 0, 0],\n",
    "                     [0, 0, 0, 0, 1, 1, 1, 1, 1, 1, 1, 1, 1, 0, 0, 0],\n",
    "                     [0, 0, 0, 1, 1, 1, 1, 1, 1, 1, 1, 1, 1, 1, 0, 0],\n",
    "                     [0, 0, 1, 1, 1, 1, 1, 1, 1, 1, 1, 1, 1, 1, 1, 0],\n",
    "                     [0, 0, 1, 1, 1, 1, 1, 1, 1, 1, 1, 1, 1, 1, 1, 0],\n",
    "                     [0, 0, 1, 1, 1, 1, 1, 1, 1, 1, 1, 1, 1, 1, 1, 0],\n",
    "                     [0, 0, 1, 1, 1, 1, 1, 1, 1, 1, 1, 1, 1, 1, 1, 0],\n",
    "                     [0, 0, 1, 1, 1, 1, 1, 1, 1, 1, 1, 1, 1, 1, 1, 0],\n",
    "                     [0, 0, 0, 1, 1, 1, 1, 1, 1, 1, 1, 1, 1, 1, 0, 0],\n",
    "                     [0, 0, 0, 0, 1, 1, 1, 1, 1, 1, 1, 1, 1, 0, 0, 0],\n",
    "                     [0, 0, 0, 0, 0, 1, 1, 1, 1, 1, 1, 1, 0, 0, 0, 0],\n",
    "                     [0, 0, 0, 0, 0, 0, 1, 1, 1, 1, 1, 0, 0, 0, 0, 0],\n",
    "                     [0, 0, 0, 0, 0, 0, 0, 1, 1, 1, 0, 0, 0, 0, 0, 0],\n",
    "                     [0, 0, 0, 0, 0, 0, 0, 0, 0, 0, 0, 0, 0, 0, 0, 0]])   "
   ]
  },
  {
   "cell_type": "code",
   "execution_count": 71,
   "metadata": {
    "collapsed": false
   },
   "outputs": [],
   "source": [
    "img = octagon()\n",
    "gx, gy = gradient(img, same_size=False)\n",
    "mag, ori = magnitude_orientation(gx, gy)"
   ]
  },
  {
   "cell_type": "code",
   "execution_count": 72,
   "metadata": {
    "collapsed": false
   },
   "outputs": [
    {
     "data": {
      "text/plain": [
       "<matplotlib.image.AxesImage at 0x216eb6b70>"
      ]
     },
     "execution_count": 72,
     "metadata": {},
     "output_type": "execute_result"
    },
    {
     "data": {
      "image/png": "[encoded data removed]",
      "text/plain": [
       "<matplotlib.figure.Figure at 0x1f9650518>"
      ]
     },
     "metadata": {},
     "output_type": "display_data"
    }
   ],
   "source": [
    "# Show gradient and magnitude\n",
    "plt.figure()\n",
    "plt.title('gradients and magnitude')\n",
    "plt.subplot(141)\n",
    "plt.imshow(img, cmap=plt.cm.Greys_r)\n",
    "plt.subplot(142)\n",
    "plt.imshow(gx, cmap=plt.cm.Greys_r)\n",
    "plt.subplot(143)\n",
    "plt.imshow(gy, cmap=plt.cm.Greys_r)\n",
    "plt.subplot(144)\n",
    "plt.imshow(mag, cmap=plt.cm.Greys_r)"
   ]
  },
  {
   "cell_type": "code",
   "execution_count": 73,
   "metadata": {
    "collapsed": false
   },
   "outputs": [
    {
     "data": {
      "text/plain": [
       "<matplotlib.colorbar.Colorbar at 0x217081668>"
      ]
     },
     "execution_count": 73,
     "metadata": {},
     "output_type": "execute_result"
    },
    {
     "data": {
      "image/png": "[encoded data removed]",
      "text/plain": [
       "<matplotlib.figure.Figure at 0x1f968b048>"
      ]
     },
     "metadata": {},
     "output_type": "display_data"
    }
   ],
   "source": [
    "# Show the orientation deducted from gradient\n",
    "plt.figure()\n",
    "plt.title('orientations')\n",
    "plt.imshow(ori)\n",
    "plt.pcolor(ori)\n",
    "plt.colorbar()"
   ]
  },
  {
   "cell_type": "code",
   "execution_count": 126,
   "metadata": {
    "collapsed": false
   },
   "outputs": [],
   "source": [
    "# Plot histogram \n",
    "from scipy.ndimage.interpolation import zoom\n",
    "# make the image bigger to compute the histogram\n",
    "im1 = zoom(octagon(), 3)\n",
    "h = hog(im1, cell_size=(2, 2), cells_per_block=(1, 1), visualise=False, nbins=9, signed_orientation=False, normalise=True, flatten=False, same_size=True)\n",
    "im2 = visualise_histogram(h, 8, 8, False)"
   ]
  },
  {
   "cell_type": "code",
   "execution_count": 128,
   "metadata": {
    "collapsed": false
   },
   "outputs": [
    {
     "data": {
      "text/plain": [
       "(48, 40)"
      ]
     },
     "execution_count": 128,
     "metadata": {},
     "output_type": "execute_result"
    }
   ],
   "source": [
    "im2.shape"
   ]
  },
  {
   "cell_type": "code",
   "execution_count": 127,
   "metadata": {
    "collapsed": false,
    "scrolled": true
   },
   "outputs": [
    {
     "data": {
      "text/plain": [
       "<matplotlib.image.AxesImage at 0x217609160>"
      ]
     },
     "execution_count": 127,
     "metadata": {},
     "output_type": "execute_result"
    },
    {
     "data": {
      "image/png": "[encoded data removed]",
      "text/plain": [
       "<matplotlib.figure.Figure at 0x21763f588>"
      ]
     },
     "metadata": {},
     "output_type": "display_data"
    }
   ],
   "source": [
    "plt.figure()\n",
    "plt.title('HOG features')\n",
    "plt.imshow(im2, cmap=plt.cm.Greys_r)"
   ]
  },
  {
   "cell_type": "markdown",
   "metadata": {},
   "source": [
    "## Test on one of our images"
   ]
  },
  {
   "cell_type": "code",
   "execution_count": 115,
   "metadata": {
    "collapsed": false
   },
   "outputs": [
    {
     "data": {
      "text/plain": [
       "array([[-0.00762504,  0.01693876, -0.00425453, ..., -0.05997973,\n",
       "        -0.01986801, -0.05011008],\n",
       "       [-0.03959351, -0.05987313,  0.0087661 , ..., -0.03769633,\n",
       "         0.08951911,  0.04178096],\n",
       "       [-0.03656383, -0.0721495 ,  0.04580768, ..., -0.06117816,\n",
       "         0.06985157,  0.02472135],\n",
       "       ..., \n",
       "       [-0.03312601, -0.03059224, -0.01676401, ..., -0.00964776,\n",
       "        -0.02648002,  0.0323438 ],\n",
       "       [ 0.00832087,  0.00626354,  0.01300299, ..., -0.0130065 ,\n",
       "         0.01989042,  0.121176  ],\n",
       "       [-0.00728178, -0.00137382, -0.00239082, ..., -0.00761034,\n",
       "         0.0611766 ,  0.09727795]])"
      ]
     },
     "execution_count": 115,
     "metadata": {},
     "output_type": "execute_result"
    }
   ],
   "source": [
    "X_train[9][0:1024].reshape(32,32)"
   ]
  },
  {
   "cell_type": "code",
   "execution_count": 116,
   "metadata": {
    "collapsed": false
   },
   "outputs": [],
   "source": [
    "img = X_train[9][0:1024].reshape(32,32)\n",
    "gx, gy = gradient(img, same_size=False)\n",
    "mag, ori = magnitude_orientation(gx, gy)"
   ]
  },
  {
   "cell_type": "code",
   "execution_count": 117,
   "metadata": {
    "collapsed": false,
    "scrolled": false
   },
   "outputs": [
    {
     "name": "stdout",
     "output_type": "stream",
     "text": [
      "Temps : 0.1895590000001448\n"
     ]
    },
    {
     "data": {
      "image/png": "[encoded data removed]",
      "text/plain": [
       "<matplotlib.figure.Figure at 0x125c2af98>"
      ]
     },
     "metadata": {},
     "output_type": "display_data"
    }
   ],
   "source": [
    "# Show gradient and magnitude\n",
    "s1=time.clock()\n",
    "plt.figure()\n",
    "plt.title('gradients and magnitude')\n",
    "plt.subplot(141)\n",
    "plt.imshow(img, cmap=plt.cm.Greys_r)\n",
    "plt.subplot(142)\n",
    "plt.imshow(gx, cmap=plt.cm.Greys_r)\n",
    "plt.subplot(143)\n",
    "plt.imshow(gy, cmap=plt.cm.Greys_r)\n",
    "plt.subplot(144)\n",
    "plt.imshow(mag, cmap=plt.cm.Greys_r)\n",
    "s2=time.clock()\n",
    "print(\"Temps :\",s2-s1)"
   ]
  },
  {
   "cell_type": "code",
   "execution_count": 118,
   "metadata": {
    "collapsed": false
   },
   "outputs": [
    {
     "name": "stdout",
     "output_type": "stream",
     "text": [
      "Temps : 0.1154399999998077\n"
     ]
    },
    {
     "data": {
      "image/png": "[encoded data removed]",
      "text/plain": [
       "<matplotlib.figure.Figure at 0x125c17390>"
      ]
     },
     "metadata": {},
     "output_type": "display_data"
    }
   ],
   "source": [
    "# Show the orientation deducted from gradient\n",
    "s1=time.clock()\n",
    "plt.figure()\n",
    "plt.title('orientations')\n",
    "plt.imshow(ori)\n",
    "plt.pcolor(ori)\n",
    "plt.colorbar()\n",
    "s2=time.clock()\n",
    "print(\"Temps :\",s2-s1)"
   ]
  },
  {
   "cell_type": "code",
   "execution_count": 119,
   "metadata": {
    "collapsed": false
   },
   "outputs": [
    {
     "name": "stdout",
     "output_type": "stream",
     "text": [
      "Temps : 0.12871199999995042\n"
     ]
    }
   ],
   "source": [
    "# Plot histogram \n",
    "from scipy.ndimage.interpolation import zoom\n",
    "# make the image bigger to compute the histogram\n",
    "s1=time.clock()\n",
    "im1 = zoom(X_train[9][0:1024].reshape(32,32), 3)\n",
    "h = hog(im1, cell_size=(2, 2), cells_per_block=(1, 1), visualise=False, nbins=9, signed_orientation=False, normalise=True, flatten=False, same_size=True)\n",
    "im2 = visualise_histogram(h, 8, 8, False)\n",
    "s2=time.clock()\n",
    "print(\"Temps :\",s2-s1)"
   ]
  },
  {
   "cell_type": "code",
   "execution_count": 124,
   "metadata": {
    "collapsed": false
   },
   "outputs": [
    {
     "data": {
      "text/plain": [
       "(88, 88)"
      ]
     },
     "execution_count": 124,
     "metadata": {},
     "output_type": "execute_result"
    }
   ],
   "source": [
    "im2.shape"
   ]
  },
  {
   "cell_type": "code",
   "execution_count": 120,
   "metadata": {
    "collapsed": false,
    "scrolled": false
   },
   "outputs": [
    {
     "name": "stdout",
     "output_type": "stream",
     "text": [
      "Temps : 0.04760800000008203\n"
     ]
    },
    {
     "data": {
      "image/png": "[encoded data removed]",
      "text/plain": [
       "<matplotlib.figure.Figure at 0x125baa4e0>"
      ]
     },
     "metadata": {},
     "output_type": "display_data"
    }
   ],
   "source": [
    "s1=time.clock()\n",
    "plt.figure()\n",
    "plt.title('HOG features')\n",
    "plt.imshow(im2, cmap=plt.cm.Greys_r)\n",
    "s2=time.clock()\n",
    "print(\"Temps :\",s2-s1)"
   ]
  },
  {
   "cell_type": "markdown",
   "metadata": {},
   "source": [
    "## Transform our whole database"
   ]
  },
  {
   "cell_type": "code",
   "execution_count": 108,
   "metadata": {
    "collapsed": true
   },
   "outputs": [],
   "source": [
    "imgint = X_train[9][0:1024].reshape(32,32)\n",
    "gxint, gyint = gradient(imgint, same_size=False)\n",
    "magint, oriint = magnitude_orientation(gxint, gyint)\n",
    "im1int = zoom(X_train[9][0:1024].reshape(32,32), 3)\n",
    "hint = hog(im1int, cell_size=(2, 2), cells_per_block=(1, 1), visualise=False, nbins=9, signed_orientation=False, normalise=True, flatten=False, same_size=True)\n",
    "im2int = visualise_histogram(hint, 8, 8, False)\n",
    "img = 5000*[imgint]\n",
    "gx = 5000*[gxint]\n",
    "gy = 5000*[gyint]\n",
    "mag = 5000*[magint]\n",
    "ori = 5000*[oriint] \n",
    "im1 = 5000*[im1int]\n",
    "h = 5000*[hint]\n",
    "im2 = 5000*[im2int]"
   ]
  },
  {
   "cell_type": "code",
   "execution_count": 109,
   "metadata": {
    "collapsed": true
   },
   "outputs": [],
   "source": [
    "for i in range(len(img)) :\n",
    "    img[i] = X_train[i][0:1024].reshape(32,32)\n",
    "    gx[i], gy[i] = gradient(img[i], same_size=False)\n",
    "    mag[i], ori[i] = magnitude_orientation(gx[i], gy[i])"
   ]
  },
  {
   "cell_type": "code",
   "execution_count": 110,
   "metadata": {
    "collapsed": false
   },
   "outputs": [
    {
     "name": "stdout",
     "output_type": "stream",
     "text": [
      "Temps : 150.34039000000007\n"
     ]
    }
   ],
   "source": [
    "# Plot histogram \n",
    "from scipy.ndimage.interpolation import zoom\n",
    "# make the image bigger to compute the histogram\n",
    "s1=time.clock()\n",
    "for i in range(len(img)) :\n",
    "    im1[i] = zoom(X_train[i][0:1024].reshape(32,32), 3)\n",
    "    h[i] = hog(im1[i], cell_size=(2, 2), cells_per_block=(1, 1), visualise=False, nbins=9, signed_orientation=False, normalise=True, flatten=False, same_size=True)\n",
    "    im2[i] = visualise_histogram(h[i], 8, 8, False)\n",
    "s2=time.clock()\n",
    "print(\"Temps :\",s2-s1)"
   ]
  },
  {
   "cell_type": "code",
   "execution_count": null,
   "metadata": {
    "collapsed": true
   },
   "outputs": [],
   "source": []
  }
 ],
 "metadata": {
  "kernelspec": {
   "display_name": "Python [Root]",
   "language": "python",
   "name": "Python [Root]"
  },
  "language_info": {
   "codemirror_mode": {
    "name": "ipython",
    "version": 3
   },
   "file_extension": ".py",
   "mimetype": "text/x-python",
   "name": "python",
   "nbconvert_exporter": "python",
   "pygments_lexer": "ipython3",
   "version": "3.5.2"
  }
 },
 "nbformat": 4,
 "nbformat_minor": 0
}
