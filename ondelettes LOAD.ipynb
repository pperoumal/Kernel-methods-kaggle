{
 "cells": [
  {
   "cell_type": "markdown",
   "metadata": {},
   "source": [
    "#  cf wavelet function"
   ]
  },
  {
   "cell_type": "code",
   "execution_count": 1,
   "metadata": {
    "collapsed": true
   },
   "outputs": [],
   "source": [
    "# Input : un dataframe ( comme df_train)\n",
    "# Output :un dataframe de même taille ; chaque canal de couleur contient les détails obtenus \n",
    "#lors de la décomposition en ondelettes   : 30 minutes pour 5000 images"
   ]
  },
  {
   "cell_type": "code",
   "execution_count": 2,
   "metadata": {
    "collapsed": false
   },
   "outputs": [
    {
     "name": "stdout",
     "output_type": "stream",
     "text": [
      "Populating the interactive namespace from numpy and matplotlib\n"
     ]
    }
   ],
   "source": [
    "%pylab inline\n",
    "import pandas\n",
    "import cvxopt\n",
    "import time\n",
    "import numpy as np\n",
    "import numpy.linalg as la\n",
    "import scipy\n",
    "from scipy.stats import mode\n",
    "import matplotlib.pyplot as plt"
   ]
  },
  {
   "cell_type": "markdown",
   "metadata": {},
   "source": [
    "# Importation de données"
   ]
  },
  {
   "cell_type": "code",
   "execution_count": 3,
   "metadata": {
    "collapsed": false
   },
   "outputs": [],
   "source": [
    "df_train=pandas.read_csv('/Users/philippe/Documents/MVA/kernel/kaggle/data/Xtr.csv',header=None,sep=',')\n",
    "df_train=df_train.drop(3072,1)\n",
    "df_test=pandas.read_csv('/Users/philippe/Documents/MVA/kernel/kaggle/data/Xte.csv',header=None,sep=',')\n",
    "df_test=df_test.drop(3072,1)\n",
    "y_train=pandas.read_csv('/Users/philippe/Documents/MVA/kernel/kaggle/data/Ytr.csv',sep=',')\n",
    "y_train=pandas.DataFrame(y_train['Prediction'])"
   ]
  },
  {
   "cell_type": "markdown",
   "metadata": {},
   "source": [
    "# code wavelets"
   ]
  },
  {
   "cell_type": "code",
   "execution_count": 4,
   "metadata": {
    "collapsed": true
   },
   "outputs": [],
   "source": [
    "def length(x=0):\n",
    "\n",
    "    import numpy as np\n",
    "    l = np.max(np.shape(x))\n",
    "    return l\n",
    "\n",
    "################# 1D convolution\t\n",
    "\n",
    "def filter_1d(xin=0,h=0,boption=3):\n",
    "\n",
    "    import numpy as np\n",
    "    import scipy.linalg as lng\n",
    "    import copy as cp    \n",
    "    \n",
    "    x = np.squeeze(cp.copy(xin));\n",
    "    n = length(x);\n",
    "    m = length(h);\n",
    "    y = cp.copy(x);\n",
    "\n",
    "    z = np.zeros(1,m);\n",
    "\n",
    "    for r in range(np.int(np.int(m/2))):\n",
    "                \n",
    "        if boption == 1: # --- zero padding\n",
    "                        \n",
    "            z = np.concatenate([np.zeros(m-r-np.int(m/2)-1),x[0:r+np.int(m/2)+1]],axis=0)\n",
    "        \n",
    "        if boption == 2: # --- periodicity\n",
    "            \n",
    "            z = np.concatenate([x[n-(m-(r+np.int(m/2)))+1:n],x[0:r+np.int(m/2)+1]],axis=0)\n",
    "        \n",
    "        if boption == 3: # --- mirror\n",
    "            \n",
    "            u = x[0:m-(r+np.int(m/2))-1];\n",
    "            u = u[::-1]\n",
    "            z = np.concatenate([u,x[0:r+np.int(m/2)+1]],axis=0)\n",
    "                                     \n",
    "        y[r] = np.sum(z*h)\n",
    "        \n",
    "        \n",
    "    \n",
    "\n",
    "    a = np.arange(np.int(np.int(m/2)),np.int(n-m+np.int(m/2)),1)\n",
    "\n",
    "    for r in a:\n",
    "        \n",
    "        y[r] = np.sum(h*x[r-np.int(m/2):m+r-np.int(m/2)])\n",
    "    \n",
    "\n",
    "    a = np.arange(np.int(n-m+np.int(m/2)+1),n,1)\n",
    "\n",
    "    for r in a:\n",
    "            \n",
    "        if boption == 1: # --- zero padding\n",
    "            \n",
    "            z = np.concatenate([x[r-np.int(m/2):n],np.zeros(m - (n-r) - np.int(m/2))],axis=0)\n",
    "        \n",
    "        if boption == 2: # --- periodicity\n",
    "            \n",
    "            z = np.concatenate([x[r-np.int(m/2):n],x[0:m - (n-r) - np.int(m/2)]],axis=0)\n",
    "        \n",
    "        if boption == 3: # --- mirror\n",
    "                        \n",
    "            u = x[n - (m - (n-r) - np.int(m/2) -1)-1:n]\n",
    "            u = u[::-1]\n",
    "            z = np.concatenate([x[r-np.int(m/2):n],u],axis=0)\n",
    "                    \n",
    "        y[r] = np.sum(z*h)\n",
    "    \t\n",
    "    return y\n"
   ]
  },
  {
   "cell_type": "code",
   "execution_count": 5,
   "metadata": {
    "collapsed": true
   },
   "outputs": [],
   "source": [
    "################# 1D convolution with the \"a trous\" algorithm\t\n",
    "\n",
    "def Apply_H1(x=0,h=0,scale=1,boption=3):\n",
    "\n",
    "\timport numpy as np\n",
    "\timport copy as cp\n",
    "\t\n",
    "\tm = length(h)\n",
    "\t\n",
    "\tif scale > 1:\n",
    "\t\tp = (m-1)*np.power(2,(scale-1)) + 1\n",
    "\t\tg = np.zeros( p)\n",
    "\t\tz = np.linspace(0,m-1,m)*np.power(2,(scale-1))\n",
    "\t\tg[z.astype(int)] = h\n",
    "\t\n",
    "\telse:\n",
    "\t\tg = h\n",
    "\t\t\t\t\n",
    "\ty = filter_1d(x,g,boption)\n",
    "\t\n",
    "\treturn y\n",
    "\t"
   ]
  },
  {
   "cell_type": "code",
   "execution_count": 6,
   "metadata": {
    "collapsed": true
   },
   "outputs": [],
   "source": [
    "################# 2D \"a trous\" algorithm\n",
    "\n",
    "def Starlet_Forward(x=0,h=[0.0625,0.25,0.375,0.25,0.0625],J=1,boption=3):\n",
    "\n",
    "\timport numpy as np\n",
    "\timport copy as cp\n",
    "\t\n",
    "\tnx = np.shape(x)\n",
    "\tc = np.zeros((nx[0],nx[1]))\n",
    "\tw = np.zeros((nx[0],nx[1],J))\n",
    "\n",
    "\tc = cp.copy(x)\n",
    "\tcnew = cp.copy(x)\n",
    "\t\n",
    "\tfor scale in range(J):\n",
    "\t\t\n",
    "\t\tfor r in range(nx[0]):\n",
    "\t\t\t\n",
    "\t\t\tcnew[r,:] = Apply_H1(c[r,:],h,scale,boption)\n",
    "\t\t\t\n",
    "\t\tfor r in range(nx[1]):\n",
    "\t\t\n",
    "\t\t\tcnew[:,r] = Apply_H1(cnew[:,r],h,scale,boption)\n",
    "\t\t\t\n",
    "\t\tw[:,:,scale] = c - cnew;\n",
    "\t\t\n",
    "\t\tc = cp.copy(cnew);\n",
    "\n",
    "\treturn c,w\n",
    "\t"
   ]
  },
  {
   "cell_type": "code",
   "execution_count": 7,
   "metadata": {
    "collapsed": true
   },
   "outputs": [],
   "source": [
    "    \n",
    "\t################# 2D \"a trous\" algorithm\n",
    "\n",
    "def Starlet_Inverse(c=0,w=0):\n",
    "\n",
    "\timport numpy as np\n",
    "\t\n",
    "\tx = c+np.sum(w,axis=2)\n",
    "\n",
    "\treturn x"
   ]
  },
  {
   "cell_type": "code",
   "execution_count": 8,
   "metadata": {
    "collapsed": true
   },
   "outputs": [],
   "source": [
    "def extract_detail(img,k) :\n",
    "    boption=2\n",
    "    h = 1/16*np.array([1,4,6,4,1])\n",
    "    J = 3\n",
    "    c,w =Starlet_Forward(img[:,:,k],h,J,boption)\n",
    "    return w[:,:,0].flatten()"
   ]
  },
  {
   "cell_type": "code",
   "execution_count": 9,
   "metadata": {
    "collapsed": true
   },
   "outputs": [],
   "source": [
    "def return_base(img):\n",
    "    res=np.empty([3,1024])\n",
    "    for k in range(3):\n",
    "        res[k,:]=extract_detail(img,k)\n",
    "    return res.flatten()    "
   ]
  },
  {
   "cell_type": "code",
   "execution_count": 60,
   "metadata": {
    "collapsed": false
   },
   "outputs": [],
   "source": [
    "def wavelet(df):\n",
    "    n_sample=df.shape[0]\n",
    "    df_bis=np.empty(df.shape)\n",
    "    print(n_sample)\n",
    "    for nb_im in range(n_sample):\n",
    "        if nb_im%50==0:\n",
    "            print (\"image num\" ,nb_im )\n",
    "        img=df.iloc[nb_im,:].values.reshape(3,32,32).transpose(1,2,0)\n",
    "        df_bis[nb_im,:]=return_base(img)\n",
    "    return pandas.DataFrame(df_bis)  "
   ]
  },
  {
   "cell_type": "markdown",
   "metadata": {
    "collapsed": true
   },
   "source": [
    "# Transformation"
   ]
  },
  {
   "cell_type": "code",
   "execution_count": 46,
   "metadata": {
    "collapsed": true
   },
   "outputs": [],
   "source": [
    "Xtr=pandas.read_csv('/Users/philippe/Documents/MVA/kernel/kaggle/data/Xtr.csv',header=None,sep=',')\n",
    "Xtr=Xtr.drop(3072,1)\n",
    "Xte=pandas.read_csv('/Users/philippe/Documents/MVA/kernel/kaggle/data/Xte.csv',header=None,sep=',')\n",
    "Xte=Xte.drop(3072,1)"
   ]
  },
  {
   "cell_type": "code",
   "execution_count": 54,
   "metadata": {
    "collapsed": false
   },
   "outputs": [
    {
     "data": {
      "text/plain": [
       "(2000, 3072)"
      ]
     },
     "execution_count": 54,
     "metadata": {},
     "output_type": "execute_result"
    }
   ],
   "source": [
    "Xte.shape\n"
   ]
  },
  {
   "cell_type": "code",
   "execution_count": 43,
   "metadata": {
    "collapsed": true
   },
   "outputs": [],
   "source": [
    "img=df_train.iloc[nb_im,:].values.reshape(3,32,32).transpose(1,2,0)"
   ]
  },
  {
   "cell_type": "code",
   "execution_count": 32,
   "metadata": {
    "collapsed": true
   },
   "outputs": [],
   "source": [
    "import pickle"
   ]
  },
  {
   "cell_type": "code",
   "execution_count": 61,
   "metadata": {
    "collapsed": false
   },
   "outputs": [
    {
     "name": "stdout",
     "output_type": "stream",
     "text": [
      "2000\n",
      "image num 0\n",
      "image num 50\n",
      "image num 100\n",
      "image num 150\n",
      "image num 200\n",
      "image num 250\n",
      "image num 300\n",
      "image num 350\n",
      "image num 400\n",
      "image num 450\n",
      "image num 500\n",
      "image num 550\n",
      "image num 600\n",
      "image num 650\n",
      "image num 700\n",
      "image num 750\n",
      "image num 800\n",
      "image num 850\n",
      "image num 900\n",
      "image num 950\n",
      "image num 1000\n",
      "image num 1050\n",
      "image num 1100\n",
      "image num 1150\n",
      "image num 1200\n",
      "image num 1250\n",
      "image num 1300\n",
      "image num 1350\n",
      "image num 1400\n",
      "image num 1450\n",
      "image num 1500\n",
      "image num 1550\n",
      "image num 1600\n",
      "image num 1650\n",
      "image num 1700\n",
      "image num 1750\n",
      "image num 1800\n",
      "image num 1850\n",
      "image num 1900\n",
      "image num 1950\n",
      "948.694342136383\n"
     ]
    }
   ],
   "source": [
    "import time\n",
    "start = time.time()\n",
    "Xte_w=wavelet(Xte)\n",
    "end = time.time()\n",
    "print(end - start)  \n",
    "\n",
    "\n",
    "output = open('Xte_v.pkl', 'wb')\n",
    "pickle.dump(df_train, output)\n",
    "output.close()"
   ]
  },
  {
   "cell_type": "code",
   "execution_count": 62,
   "metadata": {
    "collapsed": false
   },
   "outputs": [
    {
     "name": "stdout",
     "output_type": "stream",
     "text": [
      "5000\n",
      "image num 0\n",
      "image num 50\n",
      "image num 100\n",
      "image num 150\n",
      "image num 200\n",
      "image num 250\n",
      "image num 300\n",
      "image num 350\n",
      "image num 400\n",
      "image num 450\n",
      "image num 500\n",
      "image num 550\n",
      "image num 600\n",
      "image num 650\n",
      "image num 700\n",
      "image num 750\n",
      "image num 800\n",
      "image num 850\n",
      "image num 900\n",
      "image num 950\n",
      "image num 1000\n",
      "image num 1050\n",
      "image num 1100\n",
      "image num 1150\n",
      "image num 1200\n",
      "image num 1250\n",
      "image num 1300\n",
      "image num 1350\n",
      "image num 1400\n",
      "image num 1450\n",
      "image num 1500\n",
      "image num 1550\n",
      "image num 1600\n",
      "image num 1650\n",
      "image num 1700\n",
      "image num 1750\n",
      "image num 1800\n",
      "image num 1850\n",
      "image num 1900\n",
      "image num 1950\n",
      "image num 2000\n",
      "image num 2050\n",
      "image num 2100\n",
      "image num 2150\n",
      "image num 2200\n",
      "image num 2250\n",
      "image num 2300\n",
      "image num 2350\n",
      "image num 2400\n",
      "image num 2450\n",
      "image num 2500\n",
      "image num 2550\n",
      "image num 2600\n",
      "image num 2650\n",
      "image num 2700\n",
      "image num 2750\n",
      "image num 2800\n",
      "image num 2850\n",
      "image num 2900\n",
      "image num 2950\n",
      "image num 3000\n",
      "image num 3050\n",
      "image num 3100\n",
      "image num 3150\n",
      "image num 3200\n",
      "image num 3250\n",
      "image num 3300\n",
      "image num 3350\n",
      "image num 3400\n",
      "image num 3450\n",
      "image num 3500\n",
      "image num 3550\n",
      "image num 3600\n",
      "image num 3650\n",
      "image num 3700\n",
      "image num 3750\n",
      "image num 3800\n",
      "image num 3850\n",
      "image num 3900\n",
      "image num 3950\n",
      "image num 4000\n",
      "image num 4050\n",
      "image num 4100\n",
      "image num 4150\n",
      "image num 4200\n",
      "image num 4250\n",
      "image num 4300\n",
      "image num 4350\n",
      "image num 4400\n",
      "image num 4450\n",
      "image num 4500\n",
      "image num 4550\n",
      "image num 4600\n",
      "image num 4650\n",
      "image num 4700\n",
      "image num 4750\n",
      "image num 4800\n",
      "image num 4850\n",
      "image num 4900\n",
      "image num 4950\n",
      "2390.715914964676\n"
     ]
    }
   ],
   "source": [
    "start = time.time()\n",
    "Xtr_w=wavelet(Xtr)\n",
    "output = open('Xtr_v.pkl', 'wb')\n",
    "end = time.time()\n",
    "print(end - start)  \n",
    "\n",
    "pickle.dump(df_train, output)\n",
    "output.close()"
   ]
  },
  {
   "cell_type": "markdown",
   "metadata": {},
   "source": [
    "# Load"
   ]
  },
  {
   "cell_type": "code",
   "execution_count": 17,
   "metadata": {
    "collapsed": true
   },
   "outputs": [],
   "source": [
    "pkl_file = open('Xtr_v.pkl', 'rb')\n",
    "Xtr_v= pickle.load(pkl_file)\n",
    "pkl_file.close()"
   ]
  },
  {
   "cell_type": "code",
   "execution_count": 18,
   "metadata": {
    "collapsed": false
   },
   "outputs": [
    {
     "data": {
      "text/html": [
       "<div>\n",
       "<table border=\"1\" class=\"dataframe\">\n",
       "  <thead>\n",
       "    <tr style=\"text-align: right;\">\n",
       "      <th></th>\n",
       "      <th>0</th>\n",
       "      <th>1</th>\n",
       "      <th>2</th>\n",
       "      <th>3</th>\n",
       "      <th>4</th>\n",
       "      <th>5</th>\n",
       "      <th>6</th>\n",
       "      <th>7</th>\n",
       "      <th>8</th>\n",
       "      <th>9</th>\n",
       "      <th>...</th>\n",
       "      <th>3062</th>\n",
       "      <th>3063</th>\n",
       "      <th>3064</th>\n",
       "      <th>3065</th>\n",
       "      <th>3066</th>\n",
       "      <th>3067</th>\n",
       "      <th>3068</th>\n",
       "      <th>3069</th>\n",
       "      <th>3070</th>\n",
       "      <th>3071</th>\n",
       "    </tr>\n",
       "  </thead>\n",
       "  <tbody>\n",
       "    <tr>\n",
       "      <th>0</th>\n",
       "      <td>0.007018</td>\n",
       "      <td>0.000323</td>\n",
       "      <td>0.002215</td>\n",
       "      <td>0.000781</td>\n",
       "      <td>-0.005636</td>\n",
       "      <td>-0.001525</td>\n",
       "      <td>-0.001090</td>\n",
       "      <td>-0.001907</td>\n",
       "      <td>0.004179</td>\n",
       "      <td>-0.004225</td>\n",
       "      <td>...</td>\n",
       "      <td>0.004146</td>\n",
       "      <td>-0.002166</td>\n",
       "      <td>-0.005094</td>\n",
       "      <td>0.001906</td>\n",
       "      <td>-0.006143</td>\n",
       "      <td>-0.013265</td>\n",
       "      <td>-0.013873</td>\n",
       "      <td>0.005223</td>\n",
       "      <td>-0.000860</td>\n",
       "      <td>-0.012881</td>\n",
       "    </tr>\n",
       "    <tr>\n",
       "      <th>1</th>\n",
       "      <td>0.000819</td>\n",
       "      <td>0.001688</td>\n",
       "      <td>0.002698</td>\n",
       "      <td>0.004685</td>\n",
       "      <td>0.011166</td>\n",
       "      <td>0.017482</td>\n",
       "      <td>0.045989</td>\n",
       "      <td>0.031377</td>\n",
       "      <td>0.032150</td>\n",
       "      <td>0.062066</td>\n",
       "      <td>...</td>\n",
       "      <td>-0.000530</td>\n",
       "      <td>0.007203</td>\n",
       "      <td>0.008634</td>\n",
       "      <td>0.006800</td>\n",
       "      <td>0.014114</td>\n",
       "      <td>0.000243</td>\n",
       "      <td>-0.019384</td>\n",
       "      <td>-0.046763</td>\n",
       "      <td>-0.048919</td>\n",
       "      <td>-0.057449</td>\n",
       "    </tr>\n",
       "    <tr>\n",
       "      <th>2</th>\n",
       "      <td>-0.016779</td>\n",
       "      <td>0.006662</td>\n",
       "      <td>-0.007226</td>\n",
       "      <td>-0.003798</td>\n",
       "      <td>-0.004273</td>\n",
       "      <td>-0.009955</td>\n",
       "      <td>-0.030925</td>\n",
       "      <td>-0.007064</td>\n",
       "      <td>0.008136</td>\n",
       "      <td>0.000618</td>\n",
       "      <td>...</td>\n",
       "      <td>-0.029953</td>\n",
       "      <td>-0.023748</td>\n",
       "      <td>0.047707</td>\n",
       "      <td>0.072310</td>\n",
       "      <td>0.056837</td>\n",
       "      <td>0.045410</td>\n",
       "      <td>0.015561</td>\n",
       "      <td>0.003272</td>\n",
       "      <td>-0.013745</td>\n",
       "      <td>0.000968</td>\n",
       "    </tr>\n",
       "    <tr>\n",
       "      <th>3</th>\n",
       "      <td>0.014936</td>\n",
       "      <td>0.004218</td>\n",
       "      <td>0.009732</td>\n",
       "      <td>0.007309</td>\n",
       "      <td>0.004914</td>\n",
       "      <td>0.008172</td>\n",
       "      <td>0.014205</td>\n",
       "      <td>-0.023263</td>\n",
       "      <td>-0.023014</td>\n",
       "      <td>0.011482</td>\n",
       "      <td>...</td>\n",
       "      <td>-0.004505</td>\n",
       "      <td>-0.029634</td>\n",
       "      <td>-0.024069</td>\n",
       "      <td>-0.000788</td>\n",
       "      <td>-0.005010</td>\n",
       "      <td>-0.004260</td>\n",
       "      <td>0.014308</td>\n",
       "      <td>-0.010997</td>\n",
       "      <td>-0.025966</td>\n",
       "      <td>-0.025786</td>\n",
       "    </tr>\n",
       "    <tr>\n",
       "      <th>4</th>\n",
       "      <td>-0.073091</td>\n",
       "      <td>-0.046800</td>\n",
       "      <td>-0.056235</td>\n",
       "      <td>-0.063619</td>\n",
       "      <td>-0.088387</td>\n",
       "      <td>-0.044682</td>\n",
       "      <td>-0.014172</td>\n",
       "      <td>-0.077535</td>\n",
       "      <td>-0.100056</td>\n",
       "      <td>-0.066161</td>\n",
       "      <td>...</td>\n",
       "      <td>0.011063</td>\n",
       "      <td>-0.018166</td>\n",
       "      <td>0.012983</td>\n",
       "      <td>0.022676</td>\n",
       "      <td>0.014233</td>\n",
       "      <td>0.047403</td>\n",
       "      <td>0.052239</td>\n",
       "      <td>-0.029272</td>\n",
       "      <td>0.001368</td>\n",
       "      <td>-0.001475</td>\n",
       "    </tr>\n",
       "  </tbody>\n",
       "</table>\n",
       "<p>5 rows × 3072 columns</p>\n",
       "</div>"
      ],
      "text/plain": [
       "       0         1         2         3         4         5         6     \\\n",
       "0  0.007018  0.000323  0.002215  0.000781 -0.005636 -0.001525 -0.001090   \n",
       "1  0.000819  0.001688  0.002698  0.004685  0.011166  0.017482  0.045989   \n",
       "2 -0.016779  0.006662 -0.007226 -0.003798 -0.004273 -0.009955 -0.030925   \n",
       "3  0.014936  0.004218  0.009732  0.007309  0.004914  0.008172  0.014205   \n",
       "4 -0.073091 -0.046800 -0.056235 -0.063619 -0.088387 -0.044682 -0.014172   \n",
       "\n",
       "       7         8         9       ...         3062      3063      3064  \\\n",
       "0 -0.001907  0.004179 -0.004225    ...     0.004146 -0.002166 -0.005094   \n",
       "1  0.031377  0.032150  0.062066    ...    -0.000530  0.007203  0.008634   \n",
       "2 -0.007064  0.008136  0.000618    ...    -0.029953 -0.023748  0.047707   \n",
       "3 -0.023263 -0.023014  0.011482    ...    -0.004505 -0.029634 -0.024069   \n",
       "4 -0.077535 -0.100056 -0.066161    ...     0.011063 -0.018166  0.012983   \n",
       "\n",
       "       3065      3066      3067      3068      3069      3070      3071  \n",
       "0  0.001906 -0.006143 -0.013265 -0.013873  0.005223 -0.000860 -0.012881  \n",
       "1  0.006800  0.014114  0.000243 -0.019384 -0.046763 -0.048919 -0.057449  \n",
       "2  0.072310  0.056837  0.045410  0.015561  0.003272 -0.013745  0.000968  \n",
       "3 -0.000788 -0.005010 -0.004260  0.014308 -0.010997 -0.025966 -0.025786  \n",
       "4  0.022676  0.014233  0.047403  0.052239 -0.029272  0.001368 -0.001475  \n",
       "\n",
       "[5 rows x 3072 columns]"
      ]
     },
     "execution_count": 18,
     "metadata": {},
     "output_type": "execute_result"
    }
   ],
   "source": [
    "pkl_file = open('Xte_v.pkl', 'rb')\n",
    "Xte_v= pickle.load(pkl_file)\n",
    "pkl_file.close()"
   ]
  },
  {
   "cell_type": "code",
   "execution_count": null,
   "metadata": {
    "collapsed": true
   },
   "outputs": [],
   "source": []
  }
 ],
 "metadata": {
  "anaconda-cloud": {},
  "kernelspec": {
   "display_name": "Python [conda root]",
   "language": "python",
   "name": "conda-root-py"
  },
  "language_info": {
   "codemirror_mode": {
    "name": "ipython",
    "version": 3
   },
   "file_extension": ".py",
   "mimetype": "text/x-python",
   "name": "python",
   "nbconvert_exporter": "python",
   "pygments_lexer": "ipython3",
   "version": "3.5.2"
  }
 },
 "nbformat": 4,
 "nbformat_minor": 1
}
